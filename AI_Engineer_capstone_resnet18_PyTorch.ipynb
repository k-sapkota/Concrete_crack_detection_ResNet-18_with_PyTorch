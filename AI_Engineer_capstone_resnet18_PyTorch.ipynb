{
    "cells": [
        {
            "cell_type": "markdown",
            "metadata": {},
            "source": "<a href=\"http://cocl.us/pytorch_link_top\">\n    <img src=\"https://s3-api.us-geo.objectstorage.softlayer.net/cf-courses-data/CognitiveClass/DL0110EN/notebook_images%20/Pytochtop.png\" width=\"750\" alt=\"IBM Product \" />\n</a> "
        },
        {
            "cell_type": "markdown",
            "metadata": {},
            "source": "<img src=\"https://s3-api.us-geo.objectstorage.softlayer.net/cf-courses-data/CognitiveClass/DL0110EN/notebook_images%20/cc-logo-square.png\" width=\"200\" alt=\"cognitiveclass.ai logo\" />"
        },
        {
            "cell_type": "markdown",
            "metadata": {},
            "source": "<h1><h1>Crack detection on concrete images using pretrained ResNet-18, a deep convolution neural network (CNN) model, with pytorch </h1>"
        },
        {
            "cell_type": "markdown",
            "metadata": {},
            "source": "Author: Keshab Sapkota"
        },
        {
            "cell_type": "markdown",
            "metadata": {},
            "source": "## Abstract"
        },
        {
            "cell_type": "markdown",
            "metadata": {},
            "source": "I completed this labwork as my **AI capstone project with Deep Learning** for IBM AI Engineering Professional Certificate. In this work, I used pretrained ResNet-18 model to detect cracks on concrete images. The dataset contained 40000 RGB images of cracked and uncracked concrete surfaces which were saved in pytorch tensor format. The cracked concrete images or positive samples were labeled with '1', and uncracked images or negative samples were labeled with '0'. The Dataset class was constructed to set 30000 images for training and 10000 images for validation. The challenge associated with this dataset was that cracks could be confused with noise in the background texture, foreign objects, illumination, and irregularities such as exposure of jointing and finding. To solve this problem of cracks detection, I used Pre-trained ResNet-18 model which is a state of art convolutional neural network (CNN) model that is 18 layers deep and has beed trained with over 1 million images. ResNet-18 model for this project was prepared by adding a custom fully connected final hidden neural network layer and an feature extractor output layer on the pretrained convolution neural network layers. The fully connected layer was a linear classifier which contained 512 inputs matching with the output of CNN output. The output layer contained two outputs corresponding to cracked and uncracked concrete lables. The model was trained on train dataset with batch processing by minimizing crossEntropyLoss as loss function. The model performance was examined by validation dataset and accuracy of the model was calculated which is over 98%. Finally, first few misclassified samples were also indentified.\n\n"
        },
        {
            "cell_type": "markdown",
            "metadata": {},
            "source": "<h2>Table of Contents</h2>"
        },
        {
            "cell_type": "markdown",
            "metadata": {},
            "source": "\n<ol>\n    <li><a href=\"#download_data\"> Download Data</a></li>\n    <li><a href=\"#auxiliary\"> Imports and Auxiliary Functions </a></li>\n    <li><a href=\"#data_class\"> Dataset Class</a></li>\n    <li><a href=\"#Question_1\">Question 1</a></li>\n    <li><a href=\"#Question_2\">Question 2</a></li>\n    <li><a href=\"#Question_3\">Question 3</a></li>\n</ol>\n\n<hr>"
        },
        {
            "cell_type": "markdown",
            "metadata": {},
            "source": "1. [Download Data](#Download-Data)"
        },
        {
            "cell_type": "markdown",
            "metadata": {},
            "source": "The following are the libraries we are going to use for this lab. The <code>torch.manual_seed()</code> is for forcing the random function to give the same number every time we try to recompile it."
        },
        {
            "cell_type": "code",
            "execution_count": 14,
            "metadata": {
                "collapsed": true
            },
            "outputs": [
                {
                    "ename": "ModuleNotFoundError",
                    "evalue": "No module named 'torchvision'",
                    "output_type": "error",
                    "traceback": [
                        "\u001b[0;31m---------------------------------------------------------------------------\u001b[0m",
                        "\u001b[0;31mModuleNotFoundError\u001b[0m                       Traceback (most recent call last)",
                        "\u001b[0;32m<ipython-input-14-aa651bfafb96>\u001b[0m in \u001b[0;36m<module>\u001b[0;34m\u001b[0m\n\u001b[1;32m      1\u001b[0m \u001b[0;31m# These are the libraries will be used for this lab.\u001b[0m\u001b[0;34m\u001b[0m\u001b[0;34m\u001b[0m\u001b[0;34m\u001b[0m\u001b[0m\n\u001b[0;32m----> 2\u001b[0;31m \u001b[0;32mimport\u001b[0m \u001b[0mtorchvision\u001b[0m\u001b[0;34m.\u001b[0m\u001b[0mmodels\u001b[0m \u001b[0;32mas\u001b[0m \u001b[0mmodels\u001b[0m\u001b[0;34m\u001b[0m\u001b[0;34m\u001b[0m\u001b[0m\n\u001b[0m\u001b[1;32m      3\u001b[0m \u001b[0;32mfrom\u001b[0m \u001b[0mPIL\u001b[0m \u001b[0;32mimport\u001b[0m \u001b[0mImage\u001b[0m\u001b[0;34m\u001b[0m\u001b[0;34m\u001b[0m\u001b[0m\n\u001b[1;32m      4\u001b[0m \u001b[0;32mfrom\u001b[0m \u001b[0mtorchvision\u001b[0m \u001b[0;32mimport\u001b[0m \u001b[0mtransforms\u001b[0m\u001b[0;34m\u001b[0m\u001b[0;34m\u001b[0m\u001b[0m\n\u001b[1;32m      5\u001b[0m \u001b[0;32mimport\u001b[0m \u001b[0mtorch\u001b[0m\u001b[0;34m.\u001b[0m\u001b[0mnn\u001b[0m \u001b[0;32mas\u001b[0m \u001b[0mnn\u001b[0m\u001b[0;34m\u001b[0m\u001b[0;34m\u001b[0m\u001b[0m\n",
                        "\u001b[0;31mModuleNotFoundError\u001b[0m: No module named 'torchvision'"
                    ]
                }
            ],
            "source": "# Follwing libraries are used here.\n\nimport torchvision.models as models\nfrom torchvision import transforms\nimport torch \nimport torch.nn as nn\nfrom torch.utils.data import Dataset, DataLoader\nimport time\nimport matplotlib.pylab as plt\nimport numpy as np\nimport h5py\nimport os\nimport glob\ntorch.manual_seed(0)"
        },
        {
            "cell_type": "markdown",
            "metadata": {},
            "source": "## Download Data"
        },
        {
            "cell_type": "markdown",
            "metadata": {},
            "source": "Download the dataset and unzip the files in your data directory. This project was completed in IBM Watson studio. Some of the following codes are specific to Watson studio."
        },
        {
            "cell_type": "code",
            "execution_count": 1,
            "metadata": {
                "scrolled": true
            },
            "outputs": [
                {
                    "name": "stdout",
                    "output_type": "stream",
                    "text": "--2020-04-03 01:22:47--  https://s3-api.us-geo.objectstorage.softlayer.net/cf-courses-data/CognitiveClass/DL0321EN/data/images/Positive_tensors.zip\nResolving s3-api.us-geo.objectstorage.softlayer.net (s3-api.us-geo.objectstorage.softlayer.net)... 67.228.254.196\nConnecting to s3-api.us-geo.objectstorage.softlayer.net (s3-api.us-geo.objectstorage.softlayer.net)|67.228.254.196|:443... connected.\nHTTP request sent, awaiting response... 200 OK\nLength: 2598656062 (2.4G) [application/zip]\nSaving to: \u2018Positive_tensors.zip\u2019\n\n100%[====================================>] 2,598,656,062 40.7MB/s   in 57s    \n\n2020-04-03 01:23:45 (43.3 MB/s) - \u2018Positive_tensors.zip\u2019 saved [2598656062/2598656062]\n\n"
                }
            ],
            "source": "!wget https://s3-api.us-geo.objectstorage.softlayer.net/cf-courses-data/CognitiveClass/DL0321EN/data/images/Positive_tensors.zip \n!unzip -q Positive_tensors.zip "
        },
        {
            "cell_type": "code",
            "execution_count": 3,
            "metadata": {},
            "outputs": [
                {
                    "name": "stdout",
                    "output_type": "stream",
                    "text": "--2020-04-03 01:26:06--  https://s3-api.us-geo.objectstorage.softlayer.net/cf-courses-data/CognitiveClass/DL0321EN/data/images/Negative_tensors.zip\nResolving s3-api.us-geo.objectstorage.softlayer.net (s3-api.us-geo.objectstorage.softlayer.net)... 67.228.254.196\nConnecting to s3-api.us-geo.objectstorage.softlayer.net (s3-api.us-geo.objectstorage.softlayer.net)|67.228.254.196|:443... connected.\nHTTP request sent, awaiting response... 200 OK\nLength: 2111408108 (2.0G) [application/zip]\nSaving to: \u2018Negative_tensors.zip\u2019\n\n100%[====================================>] 2,111,408,108 44.3MB/s   in 46s    \n\n2020-04-03 01:26:52 (44.0 MB/s) - \u2018Negative_tensors.zip\u2019 saved [2111408108/2111408108]\n\n"
                }
            ],
            "source": "! wget https://s3-api.us-geo.objectstorage.softlayer.net/cf-courses-data/CognitiveClass/DL0321EN/data/images/Negative_tensors.zip\n!unzip -q Negative_tensors.zip"
        },
        {
            "cell_type": "markdown",
            "metadata": {},
            "source": "Let's install torchvision."
        },
        {
            "cell_type": "code",
            "execution_count": 4,
            "metadata": {},
            "outputs": [
                {
                    "name": "stdout",
                    "output_type": "stream",
                    "text": "Collecting torchvision\n\u001b[?25l  Downloading https://files.pythonhosted.org/packages/7e/90/6141bf41f5655c78e24f40f710fdd4f8a8aff6c8b7c6f0328240f649bdbe/torchvision-0.5.0-cp36-cp36m-manylinux1_x86_64.whl (4.0MB)\n\u001b[K     |\u2588\u2588\u2588\u2588\u2588\u2588\u2588\u2588\u2588\u2588\u2588\u2588\u2588\u2588\u2588\u2588\u2588\u2588\u2588\u2588\u2588\u2588\u2588\u2588\u2588\u2588\u2588\u2588\u2588\u2588\u2588\u2588| 4.0MB 5.2MB/s eta 0:00:01\n\u001b[?25hRequirement already satisfied: six in /opt/conda/envs/Python36/lib/python3.6/site-packages (from torchvision) (1.12.0)\nCollecting torch==1.4.0 (from torchvision)\n\u001b[?25l  Downloading https://files.pythonhosted.org/packages/24/19/4804aea17cd136f1705a5e98a00618cb8f6ccc375ad8bfa437408e09d058/torch-1.4.0-cp36-cp36m-manylinux1_x86_64.whl (753.4MB)\n\u001b[K     |\u2588\u2588\u2588\u2588\u2588\u2588\u2588\u2588\u2588\u2588\u2588\u2588\u2588\u2588\u2588\u2588\u2588\u2588\u2588\u2588\u2588\u2588\u2588\u2588\u2588\u2588\u2588\u2588\u2588\u2588\u2588\u2588| 753.4MB 43kB/s s eta 0:00:01              | 13.9MB 29.0MB/s eta 0:00:26     |\u2588                               | 21.9MB 29.0MB/s eta 0:00:26     |\u2588\u2588\u2588\u2588\u2588\u2588\u2588\u2588\u2588\u2588\u2588\u2588\u2588\u2588\u2588\u2588\u2588\u2588\u258e             | 430.9MB 22.6MB/s eta 0:00:15\n\u001b[?25hRequirement already satisfied: pillow>=4.1.1 in /opt/conda/envs/Python36/lib/python3.6/site-packages (from torchvision) (5.4.1)\nRequirement already satisfied: numpy in /opt/conda/envs/Python36/lib/python3.6/site-packages (from torchvision) (1.15.4)\nInstalling collected packages: torch, torchvision\nSuccessfully installed torch-1.4.0 torchvision-0.5.0\n"
                }
            ],
            "source": "!pip install torchvision"
        },
        {
            "cell_type": "markdown",
            "metadata": {},
            "source": "## 2. Explore Data"
        },
        {
            "cell_type": "markdown",
            "metadata": {},
            "source": "Following code sets paths for positive (cracked concrete images) and negative files (uncracked concrete images)"
        },
        {
            "cell_type": "code",
            "execution_count": 5,
            "metadata": {},
            "outputs": [],
            "source": "#Paths of positive and negative files\ndirectory=\"/home/dsxuser/work\"\npositive=\"Positive_tensors\"\nnegative='Negative_tensors'\n\npositive_file_path=os.path.join(directory,positive)\nnegative_file_path=os.path.join(directory,negative)\npositive_files=[os.path.join(positive_file_path,file) for file in os.listdir(positive_file_path) if file.endswith(\".pt\")]\nnegative_files=[os.path.join(negative_file_path,file) for file in os.listdir(negative_file_path) if file.endswith(\".pt\")]"
        },
        {
            "cell_type": "code",
            "execution_count": 8,
            "metadata": {
                "collapsed": true
            },
            "outputs": [
                {
                    "ename": "NameError",
                    "evalue": "name 'torch' is not defined",
                    "output_type": "error",
                    "traceback": [
                        "\u001b[0;31m---------------------------------------------------------------------------\u001b[0m",
                        "\u001b[0;31mNameError\u001b[0m                                 Traceback (most recent call last)",
                        "\u001b[0;32m<ipython-input-8-5902ab8503a6>\u001b[0m in \u001b[0;36m<module>\u001b[0;34m\u001b[0m\n\u001b[0;32m----> 1\u001b[0;31m \u001b[0mim\u001b[0m \u001b[0;34m=\u001b[0m \u001b[0mtorch\u001b[0m\u001b[0;34m.\u001b[0m\u001b[0mload\u001b[0m\u001b[0;34m(\u001b[0m\u001b[0mpositive_files\u001b[0m\u001b[0;34m[\u001b[0m\u001b[0;36m0\u001b[0m\u001b[0;34m]\u001b[0m\u001b[0;34m)\u001b[0m\u001b[0;34m\u001b[0m\u001b[0;34m\u001b[0m\u001b[0m\n\u001b[0m",
                        "\u001b[0;31mNameError\u001b[0m: name 'torch' is not defined"
                    ]
                }
            ],
            "source": "print(positive_files[0])\nprint(negative_files[0])"
        },
        {
            "cell_type": "code",
            "execution_count": null,
            "metadata": {},
            "outputs": [],
            "source": "torch.load(positive_files[0])"
        },
        {
            "cell_type": "markdown",
            "metadata": {},
            "source": "**Transform image data for the plot**"
        },
        {
            "cell_type": "code",
            "execution_count": null,
            "metadata": {},
            "outputs": [],
            "source": "#Define transform function to get image data that can be plotted in plt.imshow\n\ndef transform(torch_image, isfile = False):\n    \n    #torch_image has shape of (3, xxx, xxx)\n    if isfile == True:\n        np_image = torch.load(torch_image).numpy()\n    else:\n        np_image = torch_image.numpy()\n        \n    d1, d2 = np_image.shape[1], np_image.shape[2]\n    \n    image = np.zeros([d1, d2, 3])\n    for i, layer in enumerate(np_image):\n        #transform data in the range [0,1]\n        transformed = (layer - np.min(layer))/(np.max(layer)- np.min(layer))\n        \n        #Transform into shape (xxx, xxx, 3) which can be plotted by plt.imshow\n        image[:, :, i] = transformed\n        \n    return(image)"
        },
        {
            "cell_type": "markdown",
            "metadata": {},
            "source": "**Plot images**"
        },
        {
            "cell_type": "code",
            "execution_count": 71,
            "metadata": {
                "collapsed": true
            },
            "outputs": [
                {
                    "data": {
                        "text/plain": "array([[[1.0501755 , 1.0330508 , 1.015926  , ..., 1.1871736 ,\n         1.1871736 , 1.1871736 ],\n        [1.0673003 , 1.0330508 , 0.9816765 , ..., 1.1700488 ,\n         1.1700488 , 1.1700488 ],\n        [1.0673003 , 1.015926  , 0.96455175, ..., 1.1700488 ,\n         1.1700488 , 1.1700488 ],\n        ...,\n        [1.1015497 , 1.1015497 , 1.1186745 , ..., 1.1700488 ,\n         1.2042983 , 1.2385478 ],\n        [1.0673003 , 1.0673003 , 1.0844251 , ..., 1.1700488 ,\n         1.2042983 , 1.2385478 ],\n        [1.0501755 , 1.0330508 , 1.0501755 , ..., 1.1700488 ,\n         1.2042983 , 1.2385478 ]],\n\n       [[1.1155462 , 1.0980393 , 1.0805323 , ..., 1.2906163 ,\n         1.2906163 , 1.2906163 ],\n        [1.1330533 , 1.0980393 , 1.0455183 , ..., 1.2731093 ,\n         1.2731093 , 1.2731093 ],\n        [1.1330533 , 1.0805323 , 1.0280112 , ..., 1.2731093 ,\n         1.2731093 , 1.2731093 ],\n        ...,\n        [1.1680672 , 1.1680672 , 1.1855743 , ..., 1.2731093 ,\n         1.3081232 , 1.3431373 ],\n        [1.1330533 , 1.1330533 , 1.1505603 , ..., 1.2731093 ,\n         1.3081232 , 1.3431373 ],\n        [1.1155462 , 1.0980393 , 1.1155462 , ..., 1.2731093 ,\n         1.3081232 , 1.3431373 ]],\n\n       [[1.2282355 , 1.2108063 , 1.193377  , ..., 1.3850982 ,\n         1.3850982 , 1.3850982 ],\n        [1.2456646 , 1.2108063 , 1.1585187 , ..., 1.367669  ,\n         1.367669  , 1.367669  ],\n        [1.2456646 , 1.193377  , 1.1410894 , ..., 1.367669  ,\n         1.367669  , 1.367669  ],\n        ...,\n        [1.3153814 , 1.3153814 , 1.3328106 , ..., 1.367669  ,\n         1.4025275 , 1.4373858 ],\n        [1.2805231 , 1.2805231 , 1.2979523 , ..., 1.367669  ,\n         1.4025275 , 1.4373858 ],\n        [1.2630938 , 1.2456646 , 1.2630938 , ..., 1.367669  ,\n         1.4025275 , 1.4373858 ]]], dtype=float32)"
                    },
                    "execution_count": 71,
                    "metadata": {},
                    "output_type": "execute_result"
                }
            ],
            "source": "#Display positive files\nf, ax = plt.subplots(1, 3, figsize = (10, 10))\nprint('Positive files (crack on conceret)')\nfor i in range(3):\n    image = transform(positive_files[i], isfile = True)\n    ax[i].imshow(image)"
        },
        {
            "cell_type": "code",
            "execution_count": null,
            "metadata": {},
            "outputs": [],
            "source": "#Display negative files\nf, ax = plt.subplots(1, 3, figsize = (10, 10))\nprint('Negative files (no crack on concrete)')\nfor i in range(3):\n    image = transform(negative_files[i], isfile = True)\n    ax[i].imshow(image)"
        },
        {
            "cell_type": "markdown",
            "metadata": {},
            "source": "<!--Empty Space for separating topics-->"
        },
        {
            "cell_type": "markdown",
            "metadata": {},
            "source": "<h2 id=\"data_class\">3. Dataset Class</h2>"
        },
        {
            "cell_type": "markdown",
            "metadata": {},
            "source": " Here Dataset class is constructed which defines training and validation datasets. The each dataset will have positive and negative samples alternately."
        },
        {
            "cell_type": "code",
            "execution_count": 9,
            "metadata": {},
            "outputs": [
                {
                    "name": "stdout",
                    "output_type": "stream",
                    "text": "done\n"
                }
            ],
            "source": "# Create your own dataset object\n\nclass Dataset(Dataset):\n\n    # Constructor\n    def __init__(self,transform=None,train=True):\n        directory=\"/home/dsxuser/work\"\n        positive=\"Positive_tensors\"\n        negative='Negative_tensors'\n\n        positive_file_path=os.path.join(directory,positive)\n        negative_file_path=os.path.join(directory,negative)\n        positive_files=[os.path.join(positive_file_path,file) for file in os.listdir(positive_file_path) if file.endswith(\".pt\")]\n        negative_files=[os.path.join(negative_file_path,file) for file in os.listdir(negative_file_path) if file.endswith(\".pt\")]\n        number_of_samples=len(positive_files)+len(negative_files)\n        self.all_files=[None]*number_of_samples\n        self.all_files[::2]=positive_files\n        self.all_files[1::2]=negative_files \n        # The transform is goint to be used on image\n        self.transform = transform\n        #torch.LongTensor\n        self.Y=torch.zeros([number_of_samples]).type(torch.LongTensor)\n        self.Y[::2]=1\n        self.Y[1::2]=0\n        \n        if train:\n            self.all_files=self.all_files[0:30000]\n            self.Y=self.Y[0:30000]\n            self.len=len(self.all_files)\n        else:\n            self.all_files=self.all_files[30000:]\n            self.Y=self.Y[30000:]\n            self.len=len(self.all_files)     \n       \n    # Get the length\n    def __len__(self):\n        return self.len\n    \n    # Getter\n    def __getitem__(self, idx):\n               \n        image=torch.load(self.all_files[idx])\n        y=self.Y[idx]\n                  \n        # If there is any transform method, apply it onto the image\n        if self.transform:\n            image = self.transform(image)\n\n        return image, y\n    \nprint(\"done\")"
        },
        {
            "cell_type": "markdown",
            "metadata": {},
            "source": "Next, let's create two dataset objects, one for the training data and one for the validation data."
        },
        {
            "cell_type": "code",
            "execution_count": 9,
            "metadata": {},
            "outputs": [
                {
                    "name": "stdout",
                    "output_type": "stream",
                    "text": "done\n"
                }
            ],
            "source": "# Training and Validation dataset objects\n\ntrain_dataset = Dataset(train=True)\nvalidation_dataset = Dataset(train=False)"
        },
        {
            "cell_type": "code",
            "execution_count": null,
            "metadata": {},
            "outputs": [],
            "source": "#Check a tensor from train_dataset, it should have image data and y label\ntrain_dataset[0]"
        },
        {
            "cell_type": "code",
            "execution_count": null,
            "metadata": {},
            "outputs": [],
            "source": "#Check if the image data is of required shape and type\nprint(train_dataset[0][0].shape)\nprint(train_dataset[0][0].type())\ntorch.mean(torch.mean(train_dataset[0][0], axis = 1), axis = 1)"
        },
        {
            "cell_type": "code",
            "execution_count": null,
            "metadata": {},
            "outputs": [],
            "source": "# Display train images, it should have positive and negative smaples alternately\nf, ax = plt.subplots(1, 4, figsize = (12, 12))\n\nprint('Train images')\nfor i in range(4):\n    image = transform(train_dataset[i][0], isfile = False)\n    ax[i].imshow(image)\n    ax[i].set_title('Image lagel: y = ' + str(train_dataset[i][1].item()))"
        },
        {
            "cell_type": "code",
            "execution_count": null,
            "metadata": {},
            "outputs": [],
            "source": "# Display validation images, it should also have positive and negative smaples alternately\nf, ax = plt.subplots(1, 4, figsize = (12, 12))\n\nprint('Validation images')\nfor i in range(4):\n    image = transform(validation_dataset[i][0], isfile = False)\n    ax[i].imshow(image)\n    ax[i].set_title('Image lagel: y = ' + str(validation_dataset[i][1].item()))"
        },
        {
            "cell_type": "markdown",
            "metadata": {},
            "source": "## 4. Prepare a pre-trained ResNet-18 model"
        },
        {
            "cell_type": "markdown",
            "metadata": {},
            "source": "**Load the pre-trained model ResNet-18**"
        },
        {
            "cell_type": "code",
            "execution_count": 11,
            "metadata": {},
            "outputs": [
                {
                    "name": "stderr",
                    "output_type": "stream",
                    "text": "Downloading: \"https://download.pytorch.org/models/resnet18-5c106cde.pth\" to /home/dsxuser/.cache/torch/checkpoints/resnet18-5c106cde.pth\n"
                },
                {
                    "data": {
                        "application/vnd.jupyter.widget-view+json": {
                            "model_id": "e6c9d51a469940ffabf26193d1a47997",
                            "version_major": 2,
                            "version_minor": 0
                        },
                        "text/plain": "HBox(children=(IntProgress(value=0, max=46827520), HTML(value='')))"
                    },
                    "metadata": {},
                    "output_type": "display_data"
                },
                {
                    "name": "stdout",
                    "output_type": "stream",
                    "text": "\n"
                },
                {
                    "data": {
                        "text/plain": "'\\n#Normalizing the data\\nmean=[0.485, 0.456, 0.406]\\nstd=[0.229, 0.224, 0.225]\\n\\n#Since date is already in required shape i.e. torch.Size([3, 224, 224]) and type i.e. torch.FloatTensor, we skip that part here.\\ncomposed = transforms.Compose([transforms.Normalize(mean, std)])\\ntrain_dataset = Dataset(transform = composed, train = True)\\nvalidation_dataset = Dataset(transform = composed, train = False)'"
                    },
                    "execution_count": 11,
                    "metadata": {},
                    "output_type": "execute_result"
                }
            ],
            "source": "#Load ResNet-18 model\nmodel = models.resnet18(pretrained = True)\n\n#Normalizing parameters for 3 (RGB) layers, these values are obtained from ResNet-18 model\nmean=[0.485, 0.456, 0.406]\nstd=[0.229, 0.224, 0.225]\n\n#Normalize data\ncomposed = transforms.Compose([transforms.Normalize(mean, std)])\ntrain_dataset = Dataset(transform = composed, train = True)\nvalidation_dataset = Dataset(transform = composed, train = False)"
        },
        {
            "cell_type": "markdown",
            "metadata": {},
            "source": "Since this model is pretrained, we don't want to train the weights in CNN layers. So, we set the attribute <code>requires_grad</code> to <code>False</code>. As a result, the CNN parameters will not be affected by training."
        },
        {
            "cell_type": "code",
            "execution_count": 12,
            "metadata": {},
            "outputs": [],
            "source": "for param in model.parameters():\n    param.requires_grad = False"
        },
        {
            "cell_type": "markdown",
            "metadata": {},
            "source": "**Customize output layer**\n\nThe fully connected layer of ResNet-18 has 512 inputs from hidden CNN layers. ResNet-18 is used to classify 1000 different objects; as a result, the last layer has 1000 output i.e. it has 512 x 1000 fully connected neurons. Here, this fully connected layer is replaced by customized layer that has 512 inputs and 2 outputs."
        },
        {
            "cell_type": "code",
            "execution_count": 13,
            "metadata": {},
            "outputs": [],
            "source": "# Custom fully connected layer\nmodel.fc = nn.Linear(512, 2)"
        },
        {
            "cell_type": "markdown",
            "metadata": {},
            "source": "Let's see how is our ResNet-18 model looks like"
        },
        {
            "cell_type": "code",
            "execution_count": 14,
            "metadata": {},
            "outputs": [
                {
                    "name": "stdout",
                    "output_type": "stream",
                    "text": "ResNet(\n  (conv1): Conv2d(3, 64, kernel_size=(7, 7), stride=(2, 2), padding=(3, 3), bias=False)\n  (bn1): BatchNorm2d(64, eps=1e-05, momentum=0.1, affine=True, track_running_stats=True)\n  (relu): ReLU(inplace=True)\n  (maxpool): MaxPool2d(kernel_size=3, stride=2, padding=1, dilation=1, ceil_mode=False)\n  (layer1): Sequential(\n    (0): BasicBlock(\n      (conv1): Conv2d(64, 64, kernel_size=(3, 3), stride=(1, 1), padding=(1, 1), bias=False)\n      (bn1): BatchNorm2d(64, eps=1e-05, momentum=0.1, affine=True, track_running_stats=True)\n      (relu): ReLU(inplace=True)\n      (conv2): Conv2d(64, 64, kernel_size=(3, 3), stride=(1, 1), padding=(1, 1), bias=False)\n      (bn2): BatchNorm2d(64, eps=1e-05, momentum=0.1, affine=True, track_running_stats=True)\n    )\n    (1): BasicBlock(\n      (conv1): Conv2d(64, 64, kernel_size=(3, 3), stride=(1, 1), padding=(1, 1), bias=False)\n      (bn1): BatchNorm2d(64, eps=1e-05, momentum=0.1, affine=True, track_running_stats=True)\n      (relu): ReLU(inplace=True)\n      (conv2): Conv2d(64, 64, kernel_size=(3, 3), stride=(1, 1), padding=(1, 1), bias=False)\n      (bn2): BatchNorm2d(64, eps=1e-05, momentum=0.1, affine=True, track_running_stats=True)\n    )\n  )\n  (layer2): Sequential(\n    (0): BasicBlock(\n      (conv1): Conv2d(64, 128, kernel_size=(3, 3), stride=(2, 2), padding=(1, 1), bias=False)\n      (bn1): BatchNorm2d(128, eps=1e-05, momentum=0.1, affine=True, track_running_stats=True)\n      (relu): ReLU(inplace=True)\n      (conv2): Conv2d(128, 128, kernel_size=(3, 3), stride=(1, 1), padding=(1, 1), bias=False)\n      (bn2): BatchNorm2d(128, eps=1e-05, momentum=0.1, affine=True, track_running_stats=True)\n      (downsample): Sequential(\n        (0): Conv2d(64, 128, kernel_size=(1, 1), stride=(2, 2), bias=False)\n        (1): BatchNorm2d(128, eps=1e-05, momentum=0.1, affine=True, track_running_stats=True)\n      )\n    )\n    (1): BasicBlock(\n      (conv1): Conv2d(128, 128, kernel_size=(3, 3), stride=(1, 1), padding=(1, 1), bias=False)\n      (bn1): BatchNorm2d(128, eps=1e-05, momentum=0.1, affine=True, track_running_stats=True)\n      (relu): ReLU(inplace=True)\n      (conv2): Conv2d(128, 128, kernel_size=(3, 3), stride=(1, 1), padding=(1, 1), bias=False)\n      (bn2): BatchNorm2d(128, eps=1e-05, momentum=0.1, affine=True, track_running_stats=True)\n    )\n  )\n  (layer3): Sequential(\n    (0): BasicBlock(\n      (conv1): Conv2d(128, 256, kernel_size=(3, 3), stride=(2, 2), padding=(1, 1), bias=False)\n      (bn1): BatchNorm2d(256, eps=1e-05, momentum=0.1, affine=True, track_running_stats=True)\n      (relu): ReLU(inplace=True)\n      (conv2): Conv2d(256, 256, kernel_size=(3, 3), stride=(1, 1), padding=(1, 1), bias=False)\n      (bn2): BatchNorm2d(256, eps=1e-05, momentum=0.1, affine=True, track_running_stats=True)\n      (downsample): Sequential(\n        (0): Conv2d(128, 256, kernel_size=(1, 1), stride=(2, 2), bias=False)\n        (1): BatchNorm2d(256, eps=1e-05, momentum=0.1, affine=True, track_running_stats=True)\n      )\n    )\n    (1): BasicBlock(\n      (conv1): Conv2d(256, 256, kernel_size=(3, 3), stride=(1, 1), padding=(1, 1), bias=False)\n      (bn1): BatchNorm2d(256, eps=1e-05, momentum=0.1, affine=True, track_running_stats=True)\n      (relu): ReLU(inplace=True)\n      (conv2): Conv2d(256, 256, kernel_size=(3, 3), stride=(1, 1), padding=(1, 1), bias=False)\n      (bn2): BatchNorm2d(256, eps=1e-05, momentum=0.1, affine=True, track_running_stats=True)\n    )\n  )\n  (layer4): Sequential(\n    (0): BasicBlock(\n      (conv1): Conv2d(256, 512, kernel_size=(3, 3), stride=(2, 2), padding=(1, 1), bias=False)\n      (bn1): BatchNorm2d(512, eps=1e-05, momentum=0.1, affine=True, track_running_stats=True)\n      (relu): ReLU(inplace=True)\n      (conv2): Conv2d(512, 512, kernel_size=(3, 3), stride=(1, 1), padding=(1, 1), bias=False)\n      (bn2): BatchNorm2d(512, eps=1e-05, momentum=0.1, affine=True, track_running_stats=True)\n      (downsample): Sequential(\n        (0): Conv2d(256, 512, kernel_size=(1, 1), stride=(2, 2), bias=False)\n        (1): BatchNorm2d(512, eps=1e-05, momentum=0.1, affine=True, track_running_stats=True)\n      )\n    )\n    (1): BasicBlock(\n      (conv1): Conv2d(512, 512, kernel_size=(3, 3), stride=(1, 1), padding=(1, 1), bias=False)\n      (bn1): BatchNorm2d(512, eps=1e-05, momentum=0.1, affine=True, track_running_stats=True)\n      (relu): ReLU(inplace=True)\n      (conv2): Conv2d(512, 512, kernel_size=(3, 3), stride=(1, 1), padding=(1, 1), bias=False)\n      (bn2): BatchNorm2d(512, eps=1e-05, momentum=0.1, affine=True, track_running_stats=True)\n    )\n  )\n  (avgpool): AdaptiveAvgPool2d(output_size=(1, 1))\n  (fc): Linear(in_features=512, out_features=2, bias=True)\n)\n"
                }
            ],
            "source": "print(model)"
        },
        {
            "cell_type": "markdown",
            "metadata": {},
            "source": "## 5. Train the Model"
        },
        {
            "cell_type": "markdown",
            "metadata": {},
            "source": "**Create a cross entropy criterion function**"
        },
        {
            "cell_type": "code",
            "execution_count": 15,
            "metadata": {},
            "outputs": [],
            "source": "# The loss function\ncriterion = nn.CrossEntropyLoss()\n"
        },
        {
            "cell_type": "markdown",
            "metadata": {},
            "source": "**Data loader with batch of 100 samples**: Create a training loader and validation loader object, the batch size should have 100 samples each."
        },
        {
            "cell_type": "code",
            "execution_count": 16,
            "metadata": {},
            "outputs": [],
            "source": "train_loader = DataLoader(dataset = train_dataset, batch_size=100)\nvalidation_loader = DataLoader(dataset = validation_dataset, batch_size=100)"
        },
        {
            "cell_type": "markdown",
            "metadata": {},
            "source": "**Optimizer**"
        },
        {
            "cell_type": "code",
            "execution_count": 17,
            "metadata": {},
            "outputs": [],
            "source": "optimizer = torch.optim.Adam([parameters  for parameters in model.parameters() if parameters.requires_grad],lr=0.001)"
        },
        {
            "cell_type": "markdown",
            "metadata": {},
            "source": "**Training for just one epoch (it takes more than 30 minuts!).  Accuracy is calculated on the validation data.**"
        },
        {
            "cell_type": "code",
            "execution_count": 18,
            "metadata": {},
            "outputs": [
                {
                    "data": {
                        "text/plain": "0.99"
                    },
                    "execution_count": 18,
                    "metadata": {},
                    "output_type": "execute_result"
                }
            ],
            "source": "n_epochs=1\nloss_list=[]\naccuracy_list=[]\ncorrect=0\nN_test=len(validation_dataset)\nN_train=len(train_dataset)\nstart_time = time.time()\n\nLoss=0\nstart_time = time.time()\nfor epoch in range(n_epochs):\n    for x, y in train_loader:\n\n        model.train() \n        #clear gradient\n        optimizer.zero_grad()         \n        #make a prediction \n        yhat = model(x)\n        # calculate loss \n        loss = criterion(yhat, y)\n        # calculate gradients of parameters \n        loss.backward()\n        # update parameters \n        optimizer.step()\n        loss_list.append(loss.data)\n        \n    correct=0\n    for x_test, y_test in validation_loader:\n        # set model to eval \n        model.eval()\n        #make a prediction \n        z = model(x)\n        #find max indices\n        _, yhat = torch.max(z, axis = 1)\n       \n        #Calculate misclassified  samples in mini-batch (100 samples) \n        correct += (yhat==y_test).sum().item()\n   \n    accuracy=correct/N_test\n    \nend_time = time.time()    \nprint('Training started: 's, tart_time, '\\nTraining copleted:', end_time)\nprint('Accuracy of the model: ', accuracy)"
        },
        {
            "cell_type": "markdown",
            "metadata": {},
            "source": "**Loss plot**"
        },
        {
            "cell_type": "code",
            "execution_count": 22,
            "metadata": {},
            "outputs": [
                {
                    "data": {
                        "image/png": "[encoded data removed]",
                        "text/plain": "<Figure size 432x288 with 1 Axes>"
                    },
                    "metadata": {
                        "needs_background": "light"
                    },
                    "output_type": "display_data"
                }
            ],
            "source": "#Loss vs batch iteration of training data\nplt.plot(loss_list)\nplt.xlabel(\"Iteration\", fontweight = 'bold')\nplt.ylabel(\"Loss\", fontweight = 'bold)\nplt.show()"
        },
        {
            "cell_type": "markdown",
            "metadata": {},
            "source": "<h2 id=\"Question_3\">6. Find the misclassified samples</h2> "
        },
        {
            "cell_type": "markdown",
            "metadata": {},
            "source": "<b>Identify the first four misclassified samples using the validation data:</b>"
        },
        {
            "cell_type": "code",
            "execution_count": 33,
            "metadata": {},
            "outputs": [
                {
                    "name": "stdout",
                    "output_type": "stream",
                    "text": "Sample 390 predicted value: 0, actual value 1\nSample 768 predicted value: 0, actual value 1\nSample 794 predicted value: 0, actual value 1\nSample 863 predicted value: 1, actual value 0\nSample 974 predicted value: 0, actual value 1\n"
                }
            ],
            "source": "f, ax = plt.subplots(1, 4, figsize = (12, 12))\n\nn = 0\nfor i, (x_val, y_val) in enumerate(validation_loader):\n        #make a prediction \n        z = model(x_val)\n        #find max \n        _, yhat = torch.max(z, axis = 1)\n        \n        missed_indices = np.where(yhat != y_val)[0]\n        \n        #Plot missed images\n        for ind in missed_indices:\n            n += 1\n            title = 'Sample {} \\npredicted value {}, \\nactual value {}'.\\\n                  format(ind + 100*i, yhat[ind], y_val[ind])\n            image = transform(x_val[ind], isfile = False)\n            ax[n-1].imshow(image)\n            ax[n-1].set_title(title)\n            if n >= 4:\n                break\n        if n >= 4:\n            break"
        }
    ],
    "metadata": {
        "kernelspec": {
            "display_name": "Python 3.6",
            "language": "python",
            "name": "python3"
        },
        "language_info": {
            "codemirror_mode": {
                "name": "ipython",
                "version": 3
            },
            "file_extension": ".py",
            "mimetype": "text/x-python",
            "name": "python",
            "nbconvert_exporter": "python",
            "pygments_lexer": "ipython3",
            "version": "3.6.9"
        }
    },
    "nbformat": 4,
    "nbformat_minor": 2
}